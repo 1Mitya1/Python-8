{
 "cells": [
  {
   "cell_type": "code",
   "execution_count": 3,
   "metadata": {},
   "outputs": [
    {
     "name": "stdout",
     "output_type": "stream",
     "text": [
      "Ваш алгоритм угадал число за:6 попыток\n"
     ]
    }
   ],
   "source": [
    "limit_min = 1\n",
    "limit_max = 101\n",
    "count = 0\n",
    "Expected_number = limit_max //2\n",
    "number = int(input(\"Введи число от 1 до 100:\"))\n",
    "while number!= Expected_number:\n",
    "    count += 1\n",
    "    if number > Expected_number:\n",
    "        limit_min = Expected_number\n",
    "        Expected_number = (limit_min + limit_max) // 2\n",
    "        if count == 20:\n",
    "            print (\"Количество попыток превышенно\")\n",
    "            break\n",
    "        \n",
    "    elif number < Expected_number:\n",
    "        limit_max = Expected_number\n",
    "        Expected_number = (limit_min + limit_max) // 2\n",
    "        if count == 20:\n",
    "            print (\"Количество попыток превышенно\")\n",
    "            break\n",
    "print(f\"Ваш алгоритм угадал число за:{count} попыток\")       "
   ]
  }
 ],
 "metadata": {
  "interpreter": {
   "hash": "7ed2033860ad1a1a89914484fb1ed8ffdba274f7aa62b158625673d17a29685b"
  },
  "kernelspec": {
   "display_name": "Python 3.10.4 64-bit",
   "language": "python",
   "name": "python3"
  },
  "language_info": {
   "codemirror_mode": {
    "name": "ipython",
    "version": 3
   },
   "file_extension": ".py",
   "mimetype": "text/x-python",
   "name": "python",
   "nbconvert_exporter": "python",
   "pygments_lexer": "ipython3",
   "version": "3.10.4"
  },
  "orig_nbformat": 4
 },
 "nbformat": 4,
 "nbformat_minor": 2
}
