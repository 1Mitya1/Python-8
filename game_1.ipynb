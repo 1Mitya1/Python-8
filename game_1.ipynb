{
 "cells": [
  {
   "cell_type": "markdown",
   "metadata": {},
   "source": [
    "Задача отгадать число от 1 до 100 загаданное компьютером зав минимальное кол-во раз с целью определения алгоритма для нашей будующей программы."
   ]
  },
  {
   "cell_type": "code",
   "execution_count": null,
   "metadata": {},
   "outputs": [],
   "source": [
    "import numpy as np\n",
    "\n",
    "number = np.random.randint(1, 101) # загадываем число\n",
    "\n",
    "# количество попыток\n",
    "count = 0\n",
    "\n",
    "while True:\n",
    "    count+=1\n",
    "    predict_number = int(input(\"Угадай число от 1 до 100: \"))\n",
    "    \n",
    "    if predict_number > number:\n",
    "        print(\"Число должно быть меньше!\")\n",
    "\n",
    "    elif predict_number < number:\n",
    "        print(\"Число должно быть больше!\")\n",
    "    \n",
    "    else:\n",
    "        print(f\"Вы угадали число! Это число = {number}, за {count} попыток\")\n",
    "        break #конец игры выход из цикла"
   ]
  }
 ],
 "metadata": {
  "interpreter": {
   "hash": "7ed2033860ad1a1a89914484fb1ed8ffdba274f7aa62b158625673d17a29685b"
  },
  "kernelspec": {
   "display_name": "Python 3.10.4 64-bit",
   "language": "python",
   "name": "python3"
  },
  "language_info": {
   "codemirror_mode": {
    "name": "ipython",
    "version": 3
   },
   "file_extension": ".py",
   "mimetype": "text/x-python",
   "name": "python",
   "nbconvert_exporter": "python",
   "pygments_lexer": "ipython3",
   "version": "3.10.4"
  },
  "orig_nbformat": 4
 },
 "nbformat": 4,
 "nbformat_minor": 2
}
